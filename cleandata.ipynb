{
 "cells": [
  {
   "cell_type": "code",
   "execution_count": 1,
   "id": "8b79d510",
   "metadata": {},
   "outputs": [],
   "source": [
    "import pandas as pd\n",
    "from mongo_client import fetch_listings  # your existing module"
   ]
  },
  {
   "cell_type": "code",
   "execution_count": 2,
   "id": "9f7ee442",
   "metadata": {},
   "outputs": [
    {
     "name": "stdout",
     "output_type": "stream",
     "text": [
      "Loaded: (5555, 42)\n"
     ]
    }
   ],
   "source": [
    "# Loa# Load the data into df\n",
    "df = fetch_listings(limit=6000)\n",
    "print(\"Loaded:\", df.shape)"
   ]
  },
  {
   "cell_type": "code",
   "execution_count": 3,
   "id": "666d82e8",
   "metadata": {},
   "outputs": [
    {
     "name": "stdout",
     "output_type": "stream",
     "text": [
      "After duplicates: (5555, 42)\n"
     ]
    }
   ],
   "source": [
    "# 1. Remove duplicates\n",
    "df = df.drop_duplicates(subset=[\"_id\"], keep=\"first\")\n",
    "print(\"After duplicates:\", df.shape)"
   ]
  },
  {
   "cell_type": "code",
   "execution_count": 4,
   "id": "a9181667",
   "metadata": {},
   "outputs": [
    {
     "data": {
      "application/vnd.microsoft.datawrangler.viewer.v0+json": {
       "columns": [
        {
         "name": "index",
         "rawType": "object",
         "type": "string"
        },
        {
         "name": "0",
         "rawType": "object",
         "type": "unknown"
        }
       ],
       "ref": "17c356b3-9020-4761-b6e2-b722e603a1e2",
       "rows": [
        [
         "_id",
         "object"
        ],
        [
         "listing_url",
         "object"
        ],
        [
         "name",
         "object"
        ],
        [
         "summary",
         "object"
        ],
        [
         "space",
         "object"
        ],
        [
         "description",
         "object"
        ],
        [
         "neighborhood_overview",
         "object"
        ],
        [
         "notes",
         "object"
        ],
        [
         "transit",
         "object"
        ],
        [
         "access",
         "object"
        ],
        [
         "interaction",
         "object"
        ],
        [
         "house_rules",
         "object"
        ],
        [
         "property_type",
         "object"
        ],
        [
         "room_type",
         "object"
        ],
        [
         "bed_type",
         "object"
        ],
        [
         "minimum_nights",
         "object"
        ],
        [
         "maximum_nights",
         "object"
        ],
        [
         "cancellation_policy",
         "object"
        ],
        [
         "last_scraped",
         "object"
        ],
        [
         "calendar_last_scraped",
         "object"
        ],
        [
         "first_review",
         "object"
        ],
        [
         "last_review",
         "object"
        ],
        [
         "accommodates",
         "int64"
        ],
        [
         "bedrooms",
         "float64"
        ],
        [
         "beds",
         "float64"
        ],
        [
         "number_of_reviews",
         "int64"
        ],
        [
         "bathrooms",
         "float64"
        ],
        [
         "amenities",
         "object"
        ],
        [
         "price",
         "float64"
        ],
        [
         "security_deposit",
         "float64"
        ],
        [
         "cleaning_fee",
         "float64"
        ],
        [
         "extra_people",
         "float64"
        ],
        [
         "guests_included",
         "float64"
        ],
        [
         "images",
         "object"
        ],
        [
         "host",
         "object"
        ],
        [
         "address",
         "object"
        ],
        [
         "availability",
         "object"
        ],
        [
         "review_scores",
         "object"
        ],
        [
         "reviews",
         "object"
        ],
        [
         "weekly_price",
         "float64"
        ],
        [
         "monthly_price",
         "float64"
        ],
        [
         "reviews_per_month",
         "float64"
        ]
       ],
       "shape": {
        "columns": 1,
        "rows": 42
       }
      },
      "text/plain": [
       "_id                       object\n",
       "listing_url               object\n",
       "name                      object\n",
       "summary                   object\n",
       "space                     object\n",
       "description               object\n",
       "neighborhood_overview     object\n",
       "notes                     object\n",
       "transit                   object\n",
       "access                    object\n",
       "interaction               object\n",
       "house_rules               object\n",
       "property_type             object\n",
       "room_type                 object\n",
       "bed_type                  object\n",
       "minimum_nights            object\n",
       "maximum_nights            object\n",
       "cancellation_policy       object\n",
       "last_scraped              object\n",
       "calendar_last_scraped     object\n",
       "first_review              object\n",
       "last_review               object\n",
       "accommodates               int64\n",
       "bedrooms                 float64\n",
       "beds                     float64\n",
       "number_of_reviews          int64\n",
       "bathrooms                float64\n",
       "amenities                 object\n",
       "price                    float64\n",
       "security_deposit         float64\n",
       "cleaning_fee             float64\n",
       "extra_people             float64\n",
       "guests_included          float64\n",
       "images                    object\n",
       "host                      object\n",
       "address                   object\n",
       "availability              object\n",
       "review_scores             object\n",
       "reviews                   object\n",
       "weekly_price             float64\n",
       "monthly_price            float64\n",
       "reviews_per_month        float64\n",
       "dtype: object"
      ]
     },
     "execution_count": 4,
     "metadata": {},
     "output_type": "execute_result"
    }
   ],
   "source": [
    "df.dtypes\n"
   ]
  },
  {
   "cell_type": "code",
   "execution_count": 5,
   "id": "3a569cb8",
   "metadata": {},
   "outputs": [
    {
     "name": "stdout",
     "output_type": "stream",
     "text": [
      "<class 'pandas.core.frame.DataFrame'>\n",
      "RangeIndex: 5555 entries, 0 to 5554\n",
      "Data columns (total 42 columns):\n",
      " #   Column                 Non-Null Count  Dtype  \n",
      "---  ------                 --------------  -----  \n",
      " 0   _id                    5555 non-null   object \n",
      " 1   listing_url            5555 non-null   object \n",
      " 2   name                   5555 non-null   object \n",
      " 3   summary                5555 non-null   object \n",
      " 4   space                  5555 non-null   object \n",
      " 5   description            5555 non-null   object \n",
      " 6   neighborhood_overview  5555 non-null   object \n",
      " 7   notes                  5555 non-null   object \n",
      " 8   transit                5555 non-null   object \n",
      " 9   access                 5555 non-null   object \n",
      " 10  interaction            5555 non-null   object \n",
      " 11  house_rules            5555 non-null   object \n",
      " 12  property_type          5555 non-null   object \n",
      " 13  room_type              5555 non-null   object \n",
      " 14  bed_type               5555 non-null   object \n",
      " 15  minimum_nights         5555 non-null   object \n",
      " 16  maximum_nights         5555 non-null   object \n",
      " 17  cancellation_policy    5555 non-null   object \n",
      " 18  last_scraped           5555 non-null   object \n",
      " 19  calendar_last_scraped  5555 non-null   object \n",
      " 20  first_review           4167 non-null   object \n",
      " 21  last_review            4167 non-null   object \n",
      " 22  accommodates           5555 non-null   int64  \n",
      " 23  bedrooms               5550 non-null   float64\n",
      " 24  beds                   5542 non-null   float64\n",
      " 25  number_of_reviews      5555 non-null   int64  \n",
      " 26  bathrooms              5545 non-null   float64\n",
      " 27  amenities              5555 non-null   object \n",
      " 28  price                  5555 non-null   float64\n",
      " 29  security_deposit       3471 non-null   float64\n",
      " 30  cleaning_fee           4024 non-null   float64\n",
      " 31  extra_people           5555 non-null   float64\n",
      " 32  guests_included        5555 non-null   float64\n",
      " 33  images                 5555 non-null   object \n",
      " 34  host                   5555 non-null   object \n",
      " 35  address                5555 non-null   object \n",
      " 36  availability           5555 non-null   object \n",
      " 37  review_scores          5555 non-null   object \n",
      " 38  reviews                5555 non-null   object \n",
      " 39  weekly_price           714 non-null    float64\n",
      " 40  monthly_price          656 non-null    float64\n",
      " 41  reviews_per_month      94 non-null     float64\n",
      "dtypes: float64(11), int64(2), object(29)\n",
      "memory usage: 1.8+ MB\n",
      "None\n"
     ]
    }
   ],
   "source": [
    "print(df.info())  # Shows number of non-null entries, column types, and memory usage"
   ]
  },
  {
   "cell_type": "code",
   "execution_count": 6,
   "id": "7a7d825f",
   "metadata": {},
   "outputs": [],
   "source": [
    "#Convert date columns to datetime\n",
    "date_cols = ['last_scraped', 'calendar_last_scraped', 'first_review', 'last_review']\n",
    "for col in date_cols:\n",
    "    df[col] = pd.to_datetime(df[col], errors='coerce')  # errors='coerce' sets invalid dates to NaT"
   ]
  },
  {
   "cell_type": "code",
   "execution_count": 7,
   "id": "82272119",
   "metadata": {},
   "outputs": [],
   "source": [
    "# Convert numeric columns from object to integer\n",
    "df['minimum_nights'] = pd.to_numeric(df['minimum_nights'], errors='coerce')\n",
    "df['maximum_nights'] = pd.to_numeric(df['maximum_nights'], errors='coerce')"
   ]
  },
  {
   "cell_type": "code",
   "execution_count": 8,
   "id": "742d185a",
   "metadata": {},
   "outputs": [
    {
     "name": "stdout",
     "output_type": "stream",
     "text": [
      "_id                              object\n",
      "listing_url                      object\n",
      "name                             object\n",
      "summary                          object\n",
      "space                            object\n",
      "description                      object\n",
      "neighborhood_overview            object\n",
      "notes                            object\n",
      "transit                          object\n",
      "access                           object\n",
      "interaction                      object\n",
      "house_rules                      object\n",
      "property_type                    object\n",
      "room_type                        object\n",
      "bed_type                         object\n",
      "minimum_nights                    int64\n",
      "maximum_nights                    int64\n",
      "cancellation_policy              object\n",
      "last_scraped             datetime64[ns]\n",
      "calendar_last_scraped    datetime64[ns]\n",
      "first_review             datetime64[ns]\n",
      "last_review              datetime64[ns]\n",
      "accommodates                      int64\n",
      "bedrooms                        float64\n",
      "beds                            float64\n",
      "number_of_reviews                 int64\n",
      "bathrooms                       float64\n",
      "amenities                        object\n",
      "price                           float64\n",
      "security_deposit                float64\n",
      "cleaning_fee                    float64\n",
      "extra_people                    float64\n",
      "guests_included                 float64\n",
      "images                           object\n",
      "host                             object\n",
      "address                          object\n",
      "availability                     object\n",
      "review_scores                    object\n",
      "reviews                          object\n",
      "weekly_price                    float64\n",
      "monthly_price                   float64\n",
      "reviews_per_month               float64\n",
      "dtype: object\n"
     ]
    }
   ],
   "source": [
    "# Now check the data types\n",
    "print(df.dtypes)"
   ]
  },
  {
   "cell_type": "markdown",
   "id": "6cfc8edd",
   "metadata": {},
   "source": [
    "Handling Missing Values"
   ]
  },
  {
   "cell_type": "code",
   "execution_count": 9,
   "id": "bb70dbbe",
   "metadata": {},
   "outputs": [],
   "source": [
    "# 1. For bedrooms, beds, bathrooms: fill with median (accurate, preserves distribution)\n",
    "df['bedrooms'].fillna(df['bedrooms'].median(), inplace=True)\n",
    "df['beds'].fillna(df['beds'].median(), inplace=True)\n",
    "df['bathrooms'].fillna(df['bathrooms'].median(), inplace=True)\n"
   ]
  },
  {
   "cell_type": "code",
   "execution_count": 10,
   "id": "6d7ebe2e",
   "metadata": {},
   "outputs": [],
   "source": [
    "# 2. For security_deposit, cleaning_fee, weekly_price, monthly_price:\n",
    "# These are often missing if not charged, so fill with 0  (assume missing means not applicable).\n",
    "def monetary_columns():\n",
    "    return ['security_deposit', 'cleaning_fee', 'weekly_price', 'monthly_price']\n",
    "df[monetary_columns()] = df[monetary_columns()].fillna(0)\n",
    "\n"
   ]
  },
  {
   "cell_type": "code",
   "execution_count": 11,
   "id": "c9028478",
   "metadata": {},
   "outputs": [],
   "source": [
    "# 3. reviews_per_month: Treat NaN as 0 = no reviews received\n",
    "df['reviews_per_month'].fillna(0, inplace=True)\n",
    "\n"
   ]
  },
  {
   "cell_type": "code",
   "execution_count": 12,
   "id": "1f796460",
   "metadata": {},
   "outputs": [],
   "source": [
    "# 4. For first_review and last_review:\n",
    "# These are useful for time-based analysis (seasonal availability, demand trends)\n",
    "# So keep them and fill with a neutral placeholder date to retain rows for completeness\n",
    "df['first_review'].fillna(pd.Timestamp('2000-01-01'), inplace=True)\n",
    "df['last_review'].fillna(pd.Timestamp('2000-01-01'), inplace=True)\n",
    "\n"
   ]
  },
  {
   "cell_type": "code",
   "execution_count": 13,
   "id": "aa2a6bee",
   "metadata": {},
   "outputs": [
    {
     "name": "stdout",
     "output_type": "stream",
     "text": [
      "\n",
      "Missing values after cleaning:\n",
      "Series([], dtype: int64)\n"
     ]
    }
   ],
   "source": [
    "# Check if missing values are handled completely\n",
    "print(\"\\nMissing values after cleaning:\")\n",
    "print(df.isnull().sum()[df.isnull().sum() > 0])"
   ]
  },
  {
   "cell_type": "code",
   "execution_count": 14,
   "id": "5c200111",
   "metadata": {},
   "outputs": [
    {
     "name": "stdout",
     "output_type": "stream",
     "text": [
      "['_id', 'listing_url', 'name', 'summary', 'space', 'description', 'neighborhood_overview', 'notes', 'transit', 'access', 'interaction', 'house_rules', 'property_type', 'room_type', 'bed_type', 'minimum_nights', 'maximum_nights', 'cancellation_policy', 'last_scraped', 'calendar_last_scraped', 'first_review', 'last_review', 'accommodates', 'bedrooms', 'beds', 'number_of_reviews', 'bathrooms', 'amenities', 'price', 'security_deposit', 'cleaning_fee', 'extra_people', 'guests_included', 'images', 'host', 'address', 'availability', 'review_scores', 'reviews', 'weekly_price', 'monthly_price', 'reviews_per_month']\n"
     ]
    }
   ],
   "source": [
    "print(df.columns.tolist())\n"
   ]
  },
  {
   "cell_type": "markdown",
   "id": "84cacbe8",
   "metadata": {},
   "source": [
    "Feature Engineering - Flattening nested fields for EDA"
   ]
  },
  {
   "cell_type": "code",
   "execution_count": 15,
   "id": "6e9ca90b",
   "metadata": {},
   "outputs": [],
   "source": [
    "# Extract latitude and longitude from 'address.location.coordinates'\n",
    "df['longitude'] = df['address'].apply(lambda x: x.get('location', {}).get('coordinates', [None, None])[0])\n",
    "df['latitude'] = df['address'].apply(lambda x: x.get('location', {}).get('coordinates', [None, None])[1])"
   ]
  },
  {
   "cell_type": "code",
   "execution_count": 16,
   "id": "ca869ccd",
   "metadata": {},
   "outputs": [],
   "source": [
    "# Extract city and country \n",
    "\n",
    "df['city'] = df['address'].apply(\n",
    "    lambda x: x.get('market') if isinstance(x, dict) and 'market' in x \n",
    "    else x.get('city', None) if isinstance(x, dict) \n",
    "    else None\n",
    ")\n",
    "df['country'] = df['address'].apply(\n",
    "    lambda x: x.get('country', None) if isinstance(x, dict) \n",
    "    else None\n",
    ")\n"
   ]
  },
  {
   "cell_type": "code",
   "execution_count": 17,
   "id": "ec6fb445",
   "metadata": {},
   "outputs": [
    {
     "name": "stdout",
     "output_type": "stream",
     "text": [
      "['New York' 'Istanbul' 'Hong Kong' 'Sydney' 'Porto' 'Rio De Janeiro'\n",
      " 'Montreal' 'Barcelona' 'Oahu' 'The Big Island' 'Maui' 'Kauai' ''\n",
      " 'Other (Domestic)' 'Other (International)']\n",
      "0\n"
     ]
    }
   ],
   "source": [
    "print(df['city'].unique())\n",
    "print(df['city'].isnull().sum())\n"
   ]
  },
  {
   "cell_type": "code",
   "execution_count": 18,
   "id": "0455b068",
   "metadata": {},
   "outputs": [
    {
     "name": "stdout",
     "output_type": "stream",
     "text": [
      "✅ Dropped rows with missing city. New shape: (5549, 46)\n"
     ]
    }
   ],
   "source": [
    "# Drop rows where city is missing or empty\n",
    "df = df[df['city'].replace('', pd.NA).notnull()]\n",
    "print(\"✅ Dropped rows with missing city. New shape:\", df.shape)\n",
    "\n"
   ]
  },
  {
   "cell_type": "code",
   "execution_count": 19,
   "id": "2acb99ea",
   "metadata": {},
   "outputs": [],
   "source": [
    "# Extract host name and host id\n",
    "df['host_name'] = df['host'].apply(lambda x: x.get('host_name', None))\n",
    "df['host_id'] = df['host'].apply(lambda x: x.get('host_id', None))\n",
    "\n"
   ]
  },
  {
   "cell_type": "code",
   "execution_count": 20,
   "id": "807aa71d",
   "metadata": {},
   "outputs": [],
   "source": [
    "# Extract review scores if available\n",
    "if 'review_scores' in df.columns:\n",
    "    df['review_rating'] = df['review_scores'].apply(lambda x: x.get('review_scores_rating', None))\n",
    "    df['review_accuracy'] = df['review_scores'].apply(lambda x: x.get('review_scores_accuracy', None))\n",
    "    df['review_cleanliness'] = df['review_scores'].apply(lambda x: x.get('review_scores_cleanliness', None))\n",
    "\n",
    "\n"
   ]
  },
  {
   "cell_type": "code",
   "execution_count": 75,
   "id": "b4de25ad",
   "metadata": {},
   "outputs": [],
   "source": [
    "# Drop complex columns that won’t be used directly in EDA\n",
    "#columns_to_drop = ['images', 'host', 'review_scores', 'reviews']\n",
    "#df.drop(columns=columns_to_drop, inplace=True, errors='ignore')\n"
   ]
  },
  {
   "cell_type": "code",
   "execution_count": 21,
   "id": "8fbb69d5",
   "metadata": {},
   "outputs": [
    {
     "name": "stdout",
     "output_type": "stream",
     "text": [
      "\n",
      "Transformed DataFrame Shape: (5549, 51)\n",
      "\n",
      "Updated Columns: ['_id', 'listing_url', 'name', 'summary', 'space', 'description', 'neighborhood_overview', 'notes', 'transit', 'access', 'interaction', 'house_rules', 'property_type', 'room_type', 'bed_type', 'minimum_nights', 'maximum_nights', 'cancellation_policy', 'last_scraped', 'calendar_last_scraped', 'first_review', 'last_review', 'accommodates', 'bedrooms', 'beds', 'number_of_reviews', 'bathrooms', 'amenities', 'price', 'security_deposit', 'cleaning_fee', 'extra_people', 'guests_included', 'images', 'host', 'address', 'availability', 'review_scores', 'reviews', 'weekly_price', 'monthly_price', 'reviews_per_month', 'longitude', 'latitude', 'city', 'country', 'host_name', 'host_id', 'review_rating', 'review_accuracy', 'review_cleanliness']\n"
     ]
    }
   ],
   "source": [
    "\n",
    "# Final check on new shape and columns\n",
    "print(\"\\nTransformed DataFrame Shape:\", df.shape)\n",
    "print(\"\\nUpdated Columns:\", df.columns.tolist())"
   ]
  },
  {
   "cell_type": "code",
   "execution_count": 22,
   "id": "ed7b2f25",
   "metadata": {},
   "outputs": [],
   "source": [
    "df['longitude'] = df['address'].apply(lambda x: x.get('location', {}).get('coordinates', [None, None])[0])\n",
    "df['latitude'] = df['address'].apply(lambda x: x.get('location', {}).get('coordinates', [None, None])[1])"
   ]
  },
  {
   "cell_type": "code",
   "execution_count": 23,
   "id": "ae02723d",
   "metadata": {},
   "outputs": [],
   "source": [
    "# Ensure date columns are datetime type\n",
    "df['first_review'] = pd.to_datetime(df['first_review'], errors='coerce')\n",
    "df['last_review'] = pd.to_datetime(df['last_review'], errors='coerce')"
   ]
  },
  {
   "cell_type": "code",
   "execution_count": 24,
   "id": "6fe9bec3",
   "metadata": {},
   "outputs": [
    {
     "name": "stdout",
     "output_type": "stream",
     "text": [
      "_id                              object\n",
      "listing_url                      object\n",
      "name                             object\n",
      "summary                          object\n",
      "space                            object\n",
      "description                      object\n",
      "neighborhood_overview            object\n",
      "notes                            object\n",
      "transit                          object\n",
      "access                           object\n",
      "interaction                      object\n",
      "house_rules                      object\n",
      "property_type                    object\n",
      "room_type                        object\n",
      "bed_type                         object\n",
      "minimum_nights                    int64\n",
      "maximum_nights                    int64\n",
      "cancellation_policy              object\n",
      "last_scraped             datetime64[ns]\n",
      "calendar_last_scraped    datetime64[ns]\n",
      "first_review             datetime64[ns]\n",
      "last_review              datetime64[ns]\n",
      "accommodates                      int64\n",
      "bedrooms                        float64\n",
      "beds                            float64\n",
      "number_of_reviews                 int64\n",
      "bathrooms                       float64\n",
      "amenities                        object\n",
      "price                           float64\n",
      "security_deposit                float64\n",
      "cleaning_fee                    float64\n",
      "extra_people                    float64\n",
      "guests_included                 float64\n",
      "images                           object\n",
      "host                             object\n",
      "address                          object\n",
      "availability                     object\n",
      "review_scores                    object\n",
      "reviews                          object\n",
      "weekly_price                    float64\n",
      "monthly_price                   float64\n",
      "reviews_per_month               float64\n",
      "longitude                       float64\n",
      "latitude                        float64\n",
      "city                             object\n",
      "country                          object\n",
      "host_name                        object\n",
      "host_id                          object\n",
      "review_rating                   float64\n",
      "review_accuracy                 float64\n",
      "review_cleanliness              float64\n",
      "dtype: object\n"
     ]
    }
   ],
   "source": [
    "print(df.dtypes)"
   ]
  },
  {
   "cell_type": "code",
   "execution_count": 25,
   "id": "5e8bf4a8",
   "metadata": {},
   "outputs": [],
   "source": [
    "df['review_rating'].fillna(0, inplace=True)\n",
    "df['review_accuracy'].fillna(0, inplace=True)\n",
    "df['review_cleanliness'].fillna(0, inplace=True)\n"
   ]
  },
  {
   "cell_type": "code",
   "execution_count": 26,
   "id": "ce623390",
   "metadata": {},
   "outputs": [
    {
     "name": "stdout",
     "output_type": "stream",
     "text": [
      "\n",
      "Missing values after cleaning:\n",
      "Series([], dtype: int64)\n"
     ]
    }
   ],
   "source": [
    "# Check if missing values are handled completely\n",
    "print(\"\\nMissing values after cleaning:\")\n",
    "print(df.isnull().sum()[df.isnull().sum() > 0])"
   ]
  },
  {
   "cell_type": "code",
   "execution_count": 97,
   "id": "e3202410",
   "metadata": {},
   "outputs": [
    {
     "data": {
      "text/plain": [
       "'import os\\nimport pandas as pd\\n\\n# File path\\nfile_path = \"cleaned_airbnb_data.csv\"\\n\\n# Delete the old file if it exists\\nif os.path.exists(file_path):\\n    os.remove(file_path)\\n    print(\"✅ Old CSV file deleted.\")\\nelse:\\n    print(\"⚠️ No old file found.\")'"
      ]
     },
     "execution_count": 97,
     "metadata": {},
     "output_type": "execute_result"
    }
   ],
   "source": [
    "'''import os\n",
    "import pandas as pd\n",
    "\n",
    "# File path\n",
    "file_path = \"cleaned_airbnb_data.csv\"\n",
    "\n",
    "# Delete the old file if it exists\n",
    "if os.path.exists(file_path):\n",
    "    os.remove(file_path)\n",
    "    print(\"✅ Old CSV file deleted.\")\n",
    "else:\n",
    "    print(\"⚠️ No old file found.\")'''\n"
   ]
  },
  {
   "cell_type": "code",
   "execution_count": null,
   "id": "8deb26a1",
   "metadata": {},
   "outputs": [
    {
     "name": "stdout",
     "output_type": "stream",
     "text": [
      "✅ Final cleaned CSV file saved.\n"
     ]
    }
   ],
   "source": [
    "# Save the cleaned DataFrame again\n",
    "'''df.to_csv(\"cleaned_airbnb_data.csv\", index=False)\n",
    "print(\"✅ Final cleaned CSV file saved.\")'''\n"
   ]
  },
  {
   "cell_type": "code",
   "execution_count": 28,
   "id": "2c63464a",
   "metadata": {},
   "outputs": [
    {
     "name": "stdout",
     "output_type": "stream",
     "text": [
      "['_id', 'listing_url', 'name', 'summary', 'space', 'description', 'neighborhood_overview', 'notes', 'transit', 'access', 'interaction', 'house_rules', 'property_type', 'room_type', 'bed_type', 'minimum_nights', 'maximum_nights', 'cancellation_policy', 'last_scraped', 'calendar_last_scraped', 'first_review', 'last_review', 'accommodates', 'bedrooms', 'beds', 'number_of_reviews', 'bathrooms', 'amenities', 'price', 'security_deposit', 'cleaning_fee', 'extra_people', 'guests_included', 'images', 'host', 'address', 'availability', 'review_scores', 'reviews', 'weekly_price', 'monthly_price', 'reviews_per_month', 'longitude', 'latitude', 'city', 'country', 'host_name', 'host_id', 'review_rating', 'review_accuracy', 'review_cleanliness']\n"
     ]
    }
   ],
   "source": [
    "print(df.columns.tolist())\n"
   ]
  }
 ],
 "metadata": {
  "kernelspec": {
   "display_name": ".venv",
   "language": "python",
   "name": "python3"
  },
  "language_info": {
   "codemirror_mode": {
    "name": "ipython",
    "version": 3
   },
   "file_extension": ".py",
   "mimetype": "text/x-python",
   "name": "python",
   "nbconvert_exporter": "python",
   "pygments_lexer": "ipython3",
   "version": "3.8.10"
  }
 },
 "nbformat": 4,
 "nbformat_minor": 5
}
